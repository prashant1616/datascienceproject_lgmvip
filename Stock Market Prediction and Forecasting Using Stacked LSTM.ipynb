{
 "cells": [
  {
   "cell_type": "code",
   "execution_count": 14,
   "id": "76337f6f",
   "metadata": {},
   "outputs": [],
   "source": [
    "import pandas_datareader as pdr"
   ]
  },
  {
   "cell_type": "code",
   "execution_count": 15,
   "id": "d6a0023c",
   "metadata": {},
   "outputs": [],
   "source": [
    "import pandas as pd"
   ]
  },
  {
   "cell_type": "code",
   "execution_count": 16,
   "id": "8677e6c6",
   "metadata": {},
   "outputs": [],
   "source": [
    "df =pd.read_csv(\"C:\\\\Users\\\\user\\\\Downloads\\\\stock.csv\")"
   ]
  },
  {
   "cell_type": "code",
   "execution_count": 17,
   "id": "7838feb3",
   "metadata": {},
   "outputs": [
    {
     "data": {
      "text/html": [
       "<div>\n",
       "<style scoped>\n",
       "    .dataframe tbody tr th:only-of-type {\n",
       "        vertical-align: middle;\n",
       "    }\n",
       "\n",
       "    .dataframe tbody tr th {\n",
       "        vertical-align: top;\n",
       "    }\n",
       "\n",
       "    .dataframe thead th {\n",
       "        text-align: right;\n",
       "    }\n",
       "</style>\n",
       "<table border=\"1\" class=\"dataframe\">\n",
       "  <thead>\n",
       "    <tr style=\"text-align: right;\">\n",
       "      <th></th>\n",
       "      <th>Date</th>\n",
       "      <th>Open</th>\n",
       "      <th>High</th>\n",
       "      <th>Low</th>\n",
       "      <th>Last</th>\n",
       "      <th>Close</th>\n",
       "      <th>Total Trade Quantity</th>\n",
       "      <th>Turnover (Lacs)</th>\n",
       "    </tr>\n",
       "  </thead>\n",
       "  <tbody>\n",
       "    <tr>\n",
       "      <th>0</th>\n",
       "      <td>2018-09-28</td>\n",
       "      <td>234.05</td>\n",
       "      <td>235.95</td>\n",
       "      <td>230.20</td>\n",
       "      <td>233.50</td>\n",
       "      <td>233.75</td>\n",
       "      <td>3069914</td>\n",
       "      <td>7162.35</td>\n",
       "    </tr>\n",
       "    <tr>\n",
       "      <th>1</th>\n",
       "      <td>2018-09-27</td>\n",
       "      <td>234.55</td>\n",
       "      <td>236.80</td>\n",
       "      <td>231.10</td>\n",
       "      <td>233.80</td>\n",
       "      <td>233.25</td>\n",
       "      <td>5082859</td>\n",
       "      <td>11859.95</td>\n",
       "    </tr>\n",
       "    <tr>\n",
       "      <th>2</th>\n",
       "      <td>2018-09-26</td>\n",
       "      <td>240.00</td>\n",
       "      <td>240.00</td>\n",
       "      <td>232.50</td>\n",
       "      <td>235.00</td>\n",
       "      <td>234.25</td>\n",
       "      <td>2240909</td>\n",
       "      <td>5248.60</td>\n",
       "    </tr>\n",
       "    <tr>\n",
       "      <th>3</th>\n",
       "      <td>2018-09-25</td>\n",
       "      <td>233.30</td>\n",
       "      <td>236.75</td>\n",
       "      <td>232.00</td>\n",
       "      <td>236.25</td>\n",
       "      <td>236.10</td>\n",
       "      <td>2349368</td>\n",
       "      <td>5503.90</td>\n",
       "    </tr>\n",
       "    <tr>\n",
       "      <th>4</th>\n",
       "      <td>2018-09-24</td>\n",
       "      <td>233.55</td>\n",
       "      <td>239.20</td>\n",
       "      <td>230.75</td>\n",
       "      <td>234.00</td>\n",
       "      <td>233.30</td>\n",
       "      <td>3423509</td>\n",
       "      <td>7999.55</td>\n",
       "    </tr>\n",
       "  </tbody>\n",
       "</table>\n",
       "</div>"
      ],
      "text/plain": [
       "         Date    Open    High     Low    Last   Close  Total Trade Quantity  \\\n",
       "0  2018-09-28  234.05  235.95  230.20  233.50  233.75               3069914   \n",
       "1  2018-09-27  234.55  236.80  231.10  233.80  233.25               5082859   \n",
       "2  2018-09-26  240.00  240.00  232.50  235.00  234.25               2240909   \n",
       "3  2018-09-25  233.30  236.75  232.00  236.25  236.10               2349368   \n",
       "4  2018-09-24  233.55  239.20  230.75  234.00  233.30               3423509   \n",
       "\n",
       "   Turnover (Lacs)  \n",
       "0          7162.35  \n",
       "1         11859.95  \n",
       "2          5248.60  \n",
       "3          5503.90  \n",
       "4          7999.55  "
      ]
     },
     "execution_count": 17,
     "metadata": {},
     "output_type": "execute_result"
    }
   ],
   "source": [
    "df.head()"
   ]
  },
  {
   "cell_type": "code",
   "execution_count": 18,
   "id": "8d772df4",
   "metadata": {},
   "outputs": [],
   "source": [
    "df1 = df.reset_index()['Close']"
   ]
  },
  {
   "cell_type": "code",
   "execution_count": 19,
   "id": "2a2740d2",
   "metadata": {},
   "outputs": [
    {
     "data": {
      "text/plain": [
       "(2035,)"
      ]
     },
     "execution_count": 19,
     "metadata": {},
     "output_type": "execute_result"
    }
   ],
   "source": [
    "df1.shape"
   ]
  },
  {
   "cell_type": "code",
   "execution_count": 20,
   "id": "415448f8",
   "metadata": {},
   "outputs": [
    {
     "data": {
      "text/plain": [
       "[<matplotlib.lines.Line2D at 0x20253af20a0>]"
      ]
     },
     "execution_count": 20,
     "metadata": {},
     "output_type": "execute_result"
    },
    {
     "data": {
      "image/png": "[encoded data removed]",
      "text/plain": [
       "<Figure size 432x288 with 1 Axes>"
      ]
     },
     "metadata": {
      "needs_background": "light"
     },
     "output_type": "display_data"
    }
   ],
   "source": [
    "import matplotlib.pyplot as plt\n",
    "plt.plot(df1)"
   ]
  },
  {
   "cell_type": "code",
   "execution_count": 21,
   "id": "8bfb6d28",
   "metadata": {},
   "outputs": [],
   "source": [
    "#Lstm are very sensitive to the scale of data,so we minmax scaler"
   ]
  },
  {
   "cell_type": "code",
   "execution_count": 22,
   "id": "0896cf4e",
   "metadata": {},
   "outputs": [],
   "source": [
    "import numpy as np"
   ]
  },
  {
   "cell_type": "code",
   "execution_count": 23,
   "id": "709d7d38",
   "metadata": {},
   "outputs": [],
   "source": [
    "from sklearn.preprocessing import MinMaxScaler\n",
    "scaler=MinMaxScaler(feature_range=(0,1))\n",
    "df1=scaler.fit_transform(np.array(df1).reshape(-1,1))"
   ]
  },
  {
   "cell_type": "code",
   "execution_count": 24,
   "id": "a30035b8",
   "metadata": {},
   "outputs": [
    {
     "data": {
      "text/plain": [
       "(2035, 1)"
      ]
     },
     "execution_count": 24,
     "metadata": {},
     "output_type": "execute_result"
    }
   ],
   "source": [
    "df1.shape"
   ]
  },
  {
   "cell_type": "code",
   "execution_count": 25,
   "id": "4ca6cdba",
   "metadata": {},
   "outputs": [],
   "source": [
    "#Train and test\n",
    "training_size=int(len(df1)*0.65) \n",
    "test_size=len(df1)-training_size\n",
    "train_data,test_data=df1[0:training_size,:],df1[training_size:len(df1),:1]"
   ]
  },
  {
   "cell_type": "code",
   "execution_count": 26,
   "id": "28fc1dca",
   "metadata": {},
   "outputs": [
    {
     "data": {
      "text/plain": [
       "(1322, 713)"
      ]
     },
     "execution_count": 26,
     "metadata": {},
     "output_type": "execute_result"
    }
   ],
   "source": [
    "training_size,test_size"
   ]
  },
  {
   "cell_type": "code",
   "execution_count": 27,
   "id": "4dc35b69",
   "metadata": {},
   "outputs": [],
   "source": [
    "import numpy\n",
    "#convert an array of values into a datset matrix\n",
    "def create_dataset(dataset, time_step=1):\n",
    "    dataX, dataY =[], []\n",
    "    for i in range (len(dataset)-time_step-1):\n",
    "        a=dataset[i:(i+time_step),0] \n",
    "        dataX.append(a)\n",
    "        dataY.append(dataset[i +time_step,0])\n",
    "    return numpy.array(dataX),numpy.array(dataY)\n",
    "    "
   ]
  },
  {
   "cell_type": "code",
   "execution_count": 28,
   "id": "8db8ed23",
   "metadata": {},
   "outputs": [],
   "source": [
    "#reshape intoX=t,t+1,t+2,t+3,t+4\n",
    "time_step=100\n",
    "X_train,y_train =create_dataset(train_data,time_step)\n",
    "X_test,y_test=create_dataset(test_data,time_step)\n"
   ]
  },
  {
   "cell_type": "code",
   "execution_count": 29,
   "id": "873f7613",
   "metadata": {},
   "outputs": [
    {
     "name": "stdout",
     "output_type": "stream",
     "text": [
      "[[0.62418301 0.62214052 0.62622549 ... 0.83455882 0.86213235 0.85273693]\n",
      " [0.62214052 0.62622549 0.63378268 ... 0.86213235 0.85273693 0.87111928]\n",
      " [0.62622549 0.63378268 0.62234477 ... 0.85273693 0.87111928 0.84497549]\n",
      " ...\n",
      " [0.34517974 0.31781046 0.33047386 ... 0.2816585  0.27001634 0.26531863]\n",
      " [0.31781046 0.33047386 0.32128268 ... 0.27001634 0.26531863 0.27389706]\n",
      " [0.33047386 0.32128268 0.34007353 ... 0.26531863 0.27389706 0.25347222]]\n"
     ]
    }
   ],
   "source": [
    "print(X_train)"
   ]
  },
  {
   "cell_type": "code",
   "execution_count": 30,
   "id": "60d815d3",
   "metadata": {},
   "outputs": [
    {
     "name": "stdout",
     "output_type": "stream",
     "text": [
      "(612, 100)\n",
      "(612,)\n"
     ]
    },
    {
     "data": {
      "text/plain": [
       "(None, None)"
      ]
     },
     "execution_count": 30,
     "metadata": {},
     "output_type": "execute_result"
    }
   ],
   "source": [
    "print(X_test.shape),print(y_test.shape)"
   ]
  },
  {
   "cell_type": "code",
   "execution_count": 31,
   "id": "f2c9bc35",
   "metadata": {},
   "outputs": [],
   "source": [
    "#reshape input to be which is required for LSTM\n",
    "X_train = X_train.reshape(X_train.shape[0],X_train.shape[1],1)\n",
    "X_test=X_test.reshape(X_test.shape[0],X_test.shape[1],1)"
   ]
  },
  {
   "cell_type": "code",
   "execution_count": 32,
   "id": "23b850aa",
   "metadata": {},
   "outputs": [],
   "source": [
    "###Create the LSTM model\n",
    "from tensorflow.keras.models import Sequential\n",
    "from tensorflow.keras.layers import Dense\n",
    "from tensorflow.keras.layers import LSTM"
   ]
  },
  {
   "cell_type": "code",
   "execution_count": 33,
   "id": "5bbfa5cf",
   "metadata": {},
   "outputs": [],
   "source": [
    "model=Sequential()\n",
    "model.add(LSTM(50,return_sequences=True,input_shape=(100,1)))\n",
    "model.add(LSTM(50,return_sequences=True))\n",
    "model.add(LSTM(50))\n",
    "model.add(Dense(1))\n",
    "model.compile(loss='mean_squared_error',optimizer='adam')"
   ]
  },
  {
   "cell_type": "code",
   "execution_count": 34,
   "id": "beba2a1f",
   "metadata": {},
   "outputs": [
    {
     "name": "stdout",
     "output_type": "stream",
     "text": [
      "Model: \"sequential_2\"\n",
      "_________________________________________________________________\n",
      " Layer (type)                Output Shape              Param #   \n",
      "=================================================================\n",
      " lstm_3 (LSTM)               (None, 100, 50)           10400     \n",
      "                                                                 \n",
      " lstm_4 (LSTM)               (None, 100, 50)           20200     \n",
      "                                                                 \n",
      " lstm_5 (LSTM)               (None, 50)                20200     \n",
      "                                                                 \n",
      " dense_1 (Dense)             (None, 1)                 51        \n",
      "                                                                 \n",
      "=================================================================\n",
      "Total params: 50,851\n",
      "Trainable params: 50,851\n",
      "Non-trainable params: 0\n",
      "_________________________________________________________________\n"
     ]
    }
   ],
   "source": [
    "model.summary()"
   ]
  },
  {
   "cell_type": "code",
   "execution_count": 36,
   "id": "bfa4f9ac",
   "metadata": {},
   "outputs": [
    {
     "name": "stdout",
     "output_type": "stream",
     "text": [
      "Epoch 1/100\n",
      "20/20 [==============================] - 22s 416ms/step - loss: 0.0346 - val_loss: 0.0029\n",
      "Epoch 2/100\n",
      "20/20 [==============================] - 6s 290ms/step - loss: 0.0025 - val_loss: 0.0011\n",
      "Epoch 3/100\n",
      "20/20 [==============================] - 6s 285ms/step - loss: 0.0016 - val_loss: 0.0015\n",
      "Epoch 4/100\n",
      "20/20 [==============================] - 5s 250ms/step - loss: 0.0016 - val_loss: 0.0014\n",
      "Epoch 5/100\n",
      "20/20 [==============================] - 6s 286ms/step - loss: 0.0015 - val_loss: 0.0012\n",
      "Epoch 6/100\n",
      "20/20 [==============================] - 6s 293ms/step - loss: 0.0013 - val_loss: 0.0013\n",
      "Epoch 7/100\n",
      "20/20 [==============================] - 5s 252ms/step - loss: 0.0013 - val_loss: 0.0012\n",
      "Epoch 8/100\n",
      "20/20 [==============================] - 6s 284ms/step - loss: 0.0013 - val_loss: 9.7909e-04\n",
      "Epoch 9/100\n",
      "20/20 [==============================] - 6s 283ms/step - loss: 0.0013 - val_loss: 9.9889e-04\n",
      "Epoch 10/100\n",
      "20/20 [==============================] - 5s 240ms/step - loss: 0.0011 - val_loss: 0.0011\n",
      "Epoch 11/100\n",
      "20/20 [==============================] - 6s 275ms/step - loss: 0.0011 - val_loss: 0.0012\n",
      "Epoch 12/100\n",
      "20/20 [==============================] - 6s 282ms/step - loss: 0.0012 - val_loss: 0.0010\n",
      "Epoch 13/100\n",
      "20/20 [==============================] - 5s 241ms/step - loss: 0.0011 - val_loss: 0.0012\n",
      "Epoch 14/100\n",
      "20/20 [==============================] - 5s 274ms/step - loss: 0.0010 - val_loss: 0.0011\n",
      "Epoch 15/100\n",
      "20/20 [==============================] - 5s 264ms/step - loss: 9.3909e-04 - val_loss: 7.4446e-04\n",
      "Epoch 16/100\n",
      "20/20 [==============================] - 5s 238ms/step - loss: 0.0012 - val_loss: 6.7051e-04\n",
      "Epoch 17/100\n",
      "20/20 [==============================] - 5s 279ms/step - loss: 9.4986e-04 - val_loss: 7.9753e-04\n",
      "Epoch 18/100\n",
      "20/20 [==============================] - 5s 265ms/step - loss: 8.5519e-04 - val_loss: 7.0483e-04\n",
      "Epoch 19/100\n",
      "20/20 [==============================] - 5s 245ms/step - loss: 0.0010 - val_loss: 7.4561e-04\n",
      "Epoch 20/100\n",
      "20/20 [==============================] - 5s 275ms/step - loss: 8.9825e-04 - val_loss: 7.1198e-04\n",
      "Epoch 21/100\n",
      "20/20 [==============================] - 5s 273ms/step - loss: 8.4101e-04 - val_loss: 7.3679e-04\n",
      "Epoch 22/100\n",
      "20/20 [==============================] - 5s 249ms/step - loss: 7.6796e-04 - val_loss: 6.7855e-04\n",
      "Epoch 23/100\n",
      "20/20 [==============================] - 5s 263ms/step - loss: 9.0631e-04 - val_loss: 8.0919e-04\n",
      "Epoch 24/100\n",
      "20/20 [==============================] - 5s 230ms/step - loss: 7.7351e-04 - val_loss: 7.2924e-04\n",
      "Epoch 25/100\n",
      "20/20 [==============================] - 5s 260ms/step - loss: 7.0788e-04 - val_loss: 7.9437e-04\n",
      "Epoch 26/100\n",
      "20/20 [==============================] - 5s 240ms/step - loss: 7.2257e-04 - val_loss: 8.9296e-04\n",
      "Epoch 27/100\n",
      "20/20 [==============================] - 5s 266ms/step - loss: 6.8713e-04 - val_loss: 7.2292e-04\n",
      "Epoch 28/100\n",
      "20/20 [==============================] - 5s 271ms/step - loss: 6.7219e-04 - val_loss: 7.0585e-04\n",
      "Epoch 29/100\n",
      "20/20 [==============================] - 5s 236ms/step - loss: 6.3724e-04 - val_loss: 7.2461e-04\n",
      "Epoch 30/100\n",
      "20/20 [==============================] - 6s 276ms/step - loss: 6.1228e-04 - val_loss: 7.6114e-04\n",
      "Epoch 31/100\n",
      "20/20 [==============================] - 5s 268ms/step - loss: 6.8337e-04 - val_loss: 5.8896e-04\n",
      "Epoch 32/100\n",
      "20/20 [==============================] - 5s 236ms/step - loss: 6.6797e-04 - val_loss: 7.8557e-04\n",
      "Epoch 33/100\n",
      "20/20 [==============================] - 6s 279ms/step - loss: 6.0906e-04 - val_loss: 8.5756e-04\n",
      "Epoch 34/100\n",
      "20/20 [==============================] - 6s 279ms/step - loss: 6.6235e-04 - val_loss: 8.0715e-04\n",
      "Epoch 35/100\n",
      "20/20 [==============================] - 5s 237ms/step - loss: 5.6243e-04 - val_loss: 7.9035e-04\n",
      "Epoch 36/100\n",
      "20/20 [==============================] - 5s 276ms/step - loss: 7.2658e-04 - val_loss: 8.1988e-04\n",
      "Epoch 37/100\n",
      "20/20 [==============================] - 5s 273ms/step - loss: 6.0685e-04 - val_loss: 5.9269e-04\n",
      "Epoch 38/100\n",
      "20/20 [==============================] - 4s 224ms/step - loss: 5.8071e-04 - val_loss: 6.1983e-04\n",
      "Epoch 39/100\n",
      "20/20 [==============================] - 5s 275ms/step - loss: 5.4812e-04 - val_loss: 6.8914e-04\n",
      "Epoch 40/100\n",
      "20/20 [==============================] - 5s 272ms/step - loss: 5.2707e-04 - val_loss: 6.3782e-04\n",
      "Epoch 41/100\n",
      "20/20 [==============================] - 5s 242ms/step - loss: 5.1536e-04 - val_loss: 5.8749e-04\n",
      "Epoch 42/100\n",
      "20/20 [==============================] - 5s 268ms/step - loss: 5.1387e-04 - val_loss: 7.6082e-04\n",
      "Epoch 43/100\n",
      "20/20 [==============================] - 5s 269ms/step - loss: 5.1323e-04 - val_loss: 8.4397e-04\n",
      "Epoch 44/100\n",
      "20/20 [==============================] - 5s 228ms/step - loss: 9.9490e-04 - val_loss: 7.0955e-04\n",
      "Epoch 45/100\n",
      "20/20 [==============================] - 5s 275ms/step - loss: 5.0220e-04 - val_loss: 4.6522e-04\n",
      "Epoch 46/100\n",
      "20/20 [==============================] - 5s 271ms/step - loss: 5.0394e-04 - val_loss: 5.2869e-04\n",
      "Epoch 47/100\n",
      "20/20 [==============================] - 5s 232ms/step - loss: 4.8412e-04 - val_loss: 7.1956e-04\n",
      "Epoch 48/100\n",
      "20/20 [==============================] - 5s 268ms/step - loss: 4.6973e-04 - val_loss: 4.9572e-04\n",
      "Epoch 49/100\n",
      "20/20 [==============================] - 5s 268ms/step - loss: 6.3141e-04 - val_loss: 4.0851e-04\n",
      "Epoch 50/100\n",
      "20/20 [==============================] - 5s 241ms/step - loss: 5.1501e-04 - val_loss: 6.4034e-04\n",
      "Epoch 51/100\n",
      "20/20 [==============================] - 5s 259ms/step - loss: 4.5882e-04 - val_loss: 5.8179e-04\n",
      "Epoch 52/100\n",
      "20/20 [==============================] - 5s 267ms/step - loss: 4.8648e-04 - val_loss: 4.1554e-04\n",
      "Epoch 53/100\n",
      "20/20 [==============================] - 5s 249ms/step - loss: 4.4632e-04 - val_loss: 5.3531e-04\n",
      "Epoch 54/100\n",
      "20/20 [==============================] - 5s 254ms/step - loss: 4.4135e-04 - val_loss: 4.5598e-04\n",
      "Epoch 55/100\n",
      "20/20 [==============================] - 5s 271ms/step - loss: 4.0732e-04 - val_loss: 5.5637e-04\n",
      "Epoch 56/100\n",
      "20/20 [==============================] - 5s 258ms/step - loss: 4.1297e-04 - val_loss: 4.2241e-04\n",
      "Epoch 57/100\n",
      "20/20 [==============================] - 5s 244ms/step - loss: 4.3596e-04 - val_loss: 4.0945e-04\n",
      "Epoch 58/100\n",
      "20/20 [==============================] - 5s 272ms/step - loss: 4.6380e-04 - val_loss: 4.0935e-04\n",
      "Epoch 59/100\n",
      "20/20 [==============================] - 5s 274ms/step - loss: 3.8238e-04 - val_loss: 4.9300e-04\n",
      "Epoch 60/100\n",
      "20/20 [==============================] - 5s 249ms/step - loss: 3.7940e-04 - val_loss: 3.9455e-04\n",
      "Epoch 61/100\n",
      "20/20 [==============================] - 5s 272ms/step - loss: 4.1279e-04 - val_loss: 4.9833e-04\n",
      "Epoch 62/100\n",
      "20/20 [==============================] - 5s 275ms/step - loss: 3.7383e-04 - val_loss: 3.5754e-04\n",
      "Epoch 63/100\n",
      "20/20 [==============================] - 5s 244ms/step - loss: 3.8479e-04 - val_loss: 3.3766e-04\n",
      "Epoch 64/100\n",
      "20/20 [==============================] - 5s 270ms/step - loss: 6.7492e-04 - val_loss: 7.2168e-04\n",
      "Epoch 65/100\n",
      "20/20 [==============================] - 5s 265ms/step - loss: 4.5279e-04 - val_loss: 3.2177e-04\n",
      "Epoch 66/100\n",
      "20/20 [==============================] - 5s 233ms/step - loss: 3.7307e-04 - val_loss: 4.3241e-04\n",
      "Epoch 67/100\n",
      "20/20 [==============================] - 5s 269ms/step - loss: 4.3379e-04 - val_loss: 3.2167e-04\n",
      "Epoch 68/100\n",
      "20/20 [==============================] - 5s 259ms/step - loss: 4.3370e-04 - val_loss: 4.6624e-04\n",
      "Epoch 69/100\n",
      "20/20 [==============================] - 5s 238ms/step - loss: 4.4706e-04 - val_loss: 3.2924e-04\n",
      "Epoch 70/100\n",
      "20/20 [==============================] - 5s 275ms/step - loss: 4.2336e-04 - val_loss: 3.9090e-04\n",
      "Epoch 71/100\n",
      "20/20 [==============================] - 5s 274ms/step - loss: 3.4006e-04 - val_loss: 4.3794e-04\n",
      "Epoch 72/100\n",
      "20/20 [==============================] - 5s 231ms/step - loss: 3.3491e-04 - val_loss: 3.0093e-04\n",
      "Epoch 73/100\n",
      "20/20 [==============================] - 5s 260ms/step - loss: 4.1530e-04 - val_loss: 5.5650e-04\n",
      "Epoch 74/100\n",
      "20/20 [==============================] - 5s 275ms/step - loss: 4.4192e-04 - val_loss: 3.1895e-04\n",
      "Epoch 75/100\n",
      "20/20 [==============================] - 5s 231ms/step - loss: 3.3187e-04 - val_loss: 3.8682e-04\n",
      "Epoch 76/100\n"
     ]
    },
    {
     "name": "stdout",
     "output_type": "stream",
     "text": [
      "20/20 [==============================] - 6s 271ms/step - loss: 3.1207e-04 - val_loss: 3.3417e-04\n",
      "Epoch 77/100\n",
      "20/20 [==============================] - 6s 278ms/step - loss: 3.2434e-04 - val_loss: 3.7184e-04\n",
      "Epoch 78/100\n",
      "20/20 [==============================] - 5s 245ms/step - loss: 3.1221e-04 - val_loss: 2.9280e-04\n",
      "Epoch 79/100\n",
      "20/20 [==============================] - 5s 247ms/step - loss: 2.9965e-04 - val_loss: 3.7934e-04\n",
      "Epoch 80/100\n",
      "20/20 [==============================] - 5s 261ms/step - loss: 3.0191e-04 - val_loss: 2.9780e-04\n",
      "Epoch 81/100\n",
      "20/20 [==============================] - 4s 226ms/step - loss: 2.8826e-04 - val_loss: 2.7124e-04\n",
      "Epoch 82/100\n",
      "20/20 [==============================] - 4s 219ms/step - loss: 2.8917e-04 - val_loss: 3.3150e-04\n",
      "Epoch 83/100\n",
      "20/20 [==============================] - 5s 266ms/step - loss: 3.4076e-04 - val_loss: 2.7082e-04\n",
      "Epoch 84/100\n",
      "20/20 [==============================] - 6s 281ms/step - loss: 2.7358e-04 - val_loss: 3.7211e-04\n",
      "Epoch 85/100\n",
      "20/20 [==============================] - 5s 245ms/step - loss: 2.7111e-04 - val_loss: 4.7054e-04\n",
      "Epoch 86/100\n",
      "20/20 [==============================] - 5s 277ms/step - loss: 3.0713e-04 - val_loss: 3.2542e-04\n",
      "Epoch 87/100\n",
      "20/20 [==============================] - 5s 262ms/step - loss: 2.7500e-04 - val_loss: 3.2490e-04\n",
      "Epoch 88/100\n",
      "20/20 [==============================] - 5s 241ms/step - loss: 2.7712e-04 - val_loss: 2.5895e-04\n",
      "Epoch 89/100\n",
      "20/20 [==============================] - 5s 269ms/step - loss: 3.0870e-04 - val_loss: 5.4823e-04\n",
      "Epoch 90/100\n",
      "20/20 [==============================] - 5s 269ms/step - loss: 3.2277e-04 - val_loss: 2.7991e-04\n",
      "Epoch 91/100\n",
      "20/20 [==============================] - 5s 234ms/step - loss: 2.6412e-04 - val_loss: 2.6167e-04\n",
      "Epoch 92/100\n",
      "20/20 [==============================] - 5s 255ms/step - loss: 2.5790e-04 - val_loss: 2.8642e-04\n",
      "Epoch 93/100\n",
      "20/20 [==============================] - 5s 267ms/step - loss: 2.7680e-04 - val_loss: 2.8776e-04\n",
      "Epoch 94/100\n",
      "20/20 [==============================] - 5s 231ms/step - loss: 2.5247e-04 - val_loss: 3.4459e-04\n",
      "Epoch 95/100\n",
      "20/20 [==============================] - 5s 279ms/step - loss: 3.4274e-04 - val_loss: 3.1428e-04\n",
      "Epoch 96/100\n",
      "20/20 [==============================] - 5s 265ms/step - loss: 3.4843e-04 - val_loss: 2.3243e-04\n",
      "Epoch 97/100\n",
      "20/20 [==============================] - 5s 236ms/step - loss: 2.5187e-04 - val_loss: 2.5893e-04\n",
      "Epoch 98/100\n",
      "20/20 [==============================] - 5s 259ms/step - loss: 2.5578e-04 - val_loss: 2.5282e-04\n",
      "Epoch 99/100\n",
      "20/20 [==============================] - 5s 244ms/step - loss: 2.4368e-04 - val_loss: 2.3874e-04\n",
      "Epoch 100/100\n",
      "20/20 [==============================] - 5s 236ms/step - loss: 2.9124e-04 - val_loss: 2.3329e-04\n"
     ]
    },
    {
     "data": {
      "text/plain": [
       "<keras.callbacks.History at 0x2025492aac0>"
      ]
     },
     "execution_count": 36,
     "metadata": {},
     "output_type": "execute_result"
    }
   ],
   "source": [
    "model.fit(X_train,y_train,validation_data=(X_test,y_test),epochs=100,batch_size=64,verbose=1)"
   ]
  },
  {
   "cell_type": "code",
   "execution_count": 37,
   "id": "3fd1d080",
   "metadata": {},
   "outputs": [],
   "source": [
    "import tensorflow as tf"
   ]
  },
  {
   "cell_type": "code",
   "execution_count": 38,
   "id": "bfe2c305",
   "metadata": {},
   "outputs": [
    {
     "name": "stdout",
     "output_type": "stream",
     "text": [
      "39/39 [==============================] - 6s 37ms/step\n",
      "20/20 [==============================] - 1s 35ms/step\n"
     ]
    }
   ],
   "source": [
    "train_predict=model.predict(X_train)\n",
    "test_predict=model.predict(X_test)"
   ]
  },
  {
   "cell_type": "code",
   "execution_count": 40,
   "id": "da00e7e7",
   "metadata": {},
   "outputs": [],
   "source": [
    "train_predict=scaler.inverse_transform(train_predict)\n",
    "test_predict=scaler.inverse_transform(test_predict)"
   ]
  },
  {
   "cell_type": "code",
   "execution_count": 41,
   "id": "c9aea44a",
   "metadata": {},
   "outputs": [
    {
     "data": {
      "text/plain": [
       "164.65741536987358"
      ]
     },
     "execution_count": 41,
     "metadata": {},
     "output_type": "execute_result"
    }
   ],
   "source": [
    "import math\n",
    "from sklearn.metrics import mean_squared_error\n",
    "math.sqrt(mean_squared_error(y_train,train_predict))"
   ]
  },
  {
   "cell_type": "code",
   "execution_count": 43,
   "id": "ea78e5a6",
   "metadata": {},
   "outputs": [
    {
     "data": {
      "text/plain": [
       "115.74425489185285"
      ]
     },
     "execution_count": 43,
     "metadata": {},
     "output_type": "execute_result"
    }
   ],
   "source": [
    "##test data RMSE\n",
    "math.sqrt(mean_squared_error(y_test,test_predict))\n"
   ]
  },
  {
   "cell_type": "code",
   "execution_count": 45,
   "id": "29ed6fb1",
   "metadata": {},
   "outputs": [
    {
     "data": {
      "image/png": "[encoded data removed]",
      "text/plain": [
       "<Figure size 432x288 with 1 Axes>"
      ]
     },
     "metadata": {
      "needs_background": "light"
     },
     "output_type": "display_data"
    }
   ],
   "source": [
    "###plotting \n",
    "#shift train predictions for plotting\n",
    "look_back=100\n",
    "trainPredictPlot = numpy.empty_like(df1)\n",
    "trainPredictPlot[:,:] = np.nan\n",
    "trainPredictPlot[look_back:len(train_predict)+ look_back,:]=train_predict\n",
    "#shift test predictions for plotting\n",
    "testPredictPlot = numpy.empty_like(df1)\n",
    "testPredictPlot[:,:]=numpy.nan\n",
    "testPredictPlot[len(train_predict)+(look_back*2)+1:len(df1)-1,:]=test_predict\n",
    "#plot baseline and predictions\n",
    "plt.plot(scaler.inverse_transform(df1))\n",
    "plt.plot(trainPredictPlot)\n",
    "plt.plot(testPredictPlot)\n",
    "plt.show()"
   ]
  },
  {
   "cell_type": "code",
   "execution_count": null,
   "id": "0f0d58c3",
   "metadata": {},
   "outputs": [],
   "source": []
  }
 ],
 "metadata": {
  "kernelspec": {
   "display_name": "Python 3",
   "language": "python",
   "name": "python3"
  },
  "language_info": {
   "codemirror_mode": {
    "name": "ipython",
    "version": 3
   },
   "file_extension": ".py",
   "mimetype": "text/x-python",
   "name": "python",
   "nbconvert_exporter": "python",
   "pygments_lexer": "ipython3",
   "version": "3.8.8"
  }
 },
 "nbformat": 4,
 "nbformat_minor": 5
}
